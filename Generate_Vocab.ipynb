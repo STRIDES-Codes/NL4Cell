{
 "cells": [
  {
   "cell_type": "code",
   "execution_count": 2,
   "id": "e4d0cc57",
   "metadata": {},
   "outputs": [],
   "source": [
    "import pandas as pd\n",
    "from glob import glob"
   ]
  },
  {
   "cell_type": "code",
   "execution_count": 9,
   "id": "d914f75a",
   "metadata": {},
   "outputs": [
    {
     "name": "stdout",
     "output_type": "stream",
     "text": [
      "['./full_data/Z2L2.pkl', './full_data/Z23S-005.pkl', './full_data/Z2ZJ.pkl', './full_data/ZZBG.pkl', './full_data/ZZD7.pkl', './full_data/Z3YR.pkl', './full_data/Z238-008.pkl', './full_data/Z367-004.pkl', './full_data/ZZZU-007.h5', './full_data/ZZYA-009.h5', './full_data/Z282-006.pkl']\n",
      "./full_data/Z2L2.pkl\n",
      "./full_data/Z23S-005.pkl\n",
      "./full_data/Z2ZJ.pkl\n",
      "./full_data/ZZBG.pkl\n",
      "./full_data/ZZD7.pkl\n",
      "./full_data/Z3YR.pkl\n",
      "./full_data/Z238-008.pkl\n",
      "./full_data/Z367-004.pkl\n",
      "./full_data/ZZZU-007.h5\n",
      "./full_data/ZZYA-009.h5\n",
      "./full_data/Z282-006.pkl\n"
     ]
    }
   ],
   "source": [
    "input_folder = \"./full_data/\"\n",
    "files = glob(input_folder + \"*\")\n",
    "print(files)\n",
    "columns = []\n",
    "for f in files:\n",
    "    print(f)\n",
    "    if f.endswith(\".pkl\"):\n",
    "        df = pd.read_pickle(f)\n",
    "    elif f.endswith(\".h5\"):\n",
    "        df = pd.read_hdf(f)\n",
    "    else:\n",
    "        continue\n",
    "    \n",
    "    columns.extend(df.columns)\n",
    "    \n",
    "        "
   ]
  },
  {
   "cell_type": "code",
   "execution_count": 10,
   "id": "545bbf4d",
   "metadata": {},
   "outputs": [
    {
     "data": {
      "text/plain": [
       "{'CCR4',\n",
       " 'CCR5',\n",
       " 'CCR6',\n",
       " 'CCR7',\n",
       " 'CD11b',\n",
       " 'CD11c',\n",
       " 'CD123',\n",
       " 'CD127',\n",
       " 'CD14',\n",
       " 'CD141',\n",
       " 'CD16',\n",
       " 'CD161',\n",
       " 'CD183',\n",
       " 'CD19',\n",
       " 'CD195',\n",
       " 'CD196',\n",
       " 'CD197',\n",
       " 'CD1c',\n",
       " 'CD20',\n",
       " 'CD209',\n",
       " 'CD235',\n",
       " 'CD24',\n",
       " 'CD25',\n",
       " 'CD27',\n",
       " 'CD279',\n",
       " 'CD3',\n",
       " 'CD33',\n",
       " 'CD38',\n",
       " 'CD4',\n",
       " 'CD40',\n",
       " 'CD45',\n",
       " 'CD45RA',\n",
       " 'CD45RO',\n",
       " 'CD5',\n",
       " 'CD54',\n",
       " 'CD56',\n",
       " 'CD57',\n",
       " 'CD61',\n",
       " 'CD66',\n",
       " 'CD66b',\n",
       " 'CD8',\n",
       " 'CD80',\n",
       " 'CD86',\n",
       " 'CD95',\n",
       " 'CHIKV',\n",
       " 'CX3CR1',\n",
       " 'CXCR3',\n",
       " 'CXCR5',\n",
       " 'HLA-DR',\n",
       " 'HLADR',\n",
       " 'IgD',\n",
       " 'PD-1'}"
      ]
     },
     "execution_count": 10,
     "metadata": {},
     "output_type": "execute_result"
    }
   ],
   "source": [
    "set(columns)"
   ]
  },
  {
   "cell_type": "code",
   "execution_count": 11,
   "id": "614f072d",
   "metadata": {},
   "outputs": [],
   "source": [
    "def generate_vocab(genes, prefix, output_file=\"vocab.txt\"):\n",
    "    genes = sorted(list(set(genes)))\n",
    "    with open(output_file, \"w\") as fh:\n",
    "        fh.write(prefix)\n",
    "        if not prefix.endswith(\"\\n\"):\n",
    "            fh.write(\"\\n\")\n",
    "        for g in genes:\n",
    "            fh.write(g + \"\\n\")\n",
    "            fh.write(g + \"-\\n\")\n",
    "            fh.write(g + \"+\\n\")\n",
    "            "
   ]
  },
  {
   "cell_type": "code",
   "execution_count": 12,
   "id": "c919dcca",
   "metadata": {},
   "outputs": [],
   "source": [
    "columns = [col.lower() for col in columns]"
   ]
  },
  {
   "cell_type": "code",
   "execution_count": 13,
   "id": "09c224e1",
   "metadata": {},
   "outputs": [],
   "source": [
    "prefix = \"\"\"[PAD]\\n[UNK]\\n[CLS]\\n[SEP]\\n[MASK]\\n\"\"\"\n",
    "generate_vocab(columns, prefix)"
   ]
  }
 ],
 "metadata": {
  "kernelspec": {
   "display_name": "Python 3",
   "language": "python",
   "name": "python3"
  },
  "language_info": {
   "codemirror_mode": {
    "name": "ipython",
    "version": 3
   },
   "file_extension": ".py",
   "mimetype": "text/x-python",
   "name": "python",
   "nbconvert_exporter": "python",
   "pygments_lexer": "ipython3",
   "version": "3.7.11"
  }
 },
 "nbformat": 4,
 "nbformat_minor": 5
}
